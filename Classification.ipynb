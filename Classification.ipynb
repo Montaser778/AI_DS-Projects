{
  "nbformat": 4,
  "nbformat_minor": 0,
  "metadata": {
    "colab": {
      "provenance": [],
      "machine_shape": "hm"
    },
    "kernelspec": {
      "name": "python3",
      "display_name": "Python 3"
    }
  },
  "cells": [
    {
      "cell_type": "code",
      "metadata": {
        "id": "YvGPUQaHhXfL"
      },
      "source": [
        "import numpy as np\n",
        "import matplotlib.pyplot as plt\n",
        "import pandas as pd"
      ],
      "execution_count": null,
      "outputs": []
    },
    {
      "cell_type": "code",
      "metadata": {
        "id": "M52QDmyzhh9s"
      },
      "source": [
        "dataset = pd.read_csv('USA_Housing.csv')\n",
        "X = dataset.iloc[:, :-1].values\n",
        "y = dataset.iloc[:, -1].values"
      ],
      "execution_count": null,
      "outputs": []
    },
    {
      "cell_type": "code",
      "metadata": {
        "id": "AVzJWAXIhxoC"
      },
      "source": [
        "from sklearn.model_selection import train_test_split\n",
        "X_train, X_test, y_train, y_test = train_test_split(X, y, test_size = 0.25, random_state = 0)"
      ],
      "execution_count": null,
      "outputs": []
    },
    {
      "cell_type": "code",
      "metadata": {
        "id": "P3nS3-6r1i2B",
        "outputId": "33f20b0c-95bf-4b12-a95f-e629e5d92bc8",
        "colab": {
          "base_uri": "https://localhost:8080/"
        }
      },
      "source": [
        "print(X_train)"
      ],
      "execution_count": null,
      "outputs": [
        {
          "output_type": "stream",
          "name": "stdout",
          "text": [
            "[[7.79785900e+04 5.00982550e+00 6.68839033e+00 4.44000000e+00\n",
            "  3.97306831e+04 1.16219179e+06]\n",
            " [5.04422664e+04 4.76799751e+00 7.24828775e+00 6.07000000e+00\n",
            "  3.34398067e+04 6.44142476e+05]\n",
            " [6.32807080e+04 7.24729852e+00 7.87522404e+00 3.09000000e+00\n",
            "  4.30315617e+04 1.45366325e+06]\n",
            " ...\n",
            " [6.70941971e+04 5.34643683e+00 7.37460657e+00 4.18000000e+00\n",
            "  3.00225372e+04 1.20299288e+06]\n",
            " [5.25413198e+04 4.88524325e+00 7.22552182e+00 3.20000000e+00\n",
            "  4.12582623e+04 8.42985853e+05]\n",
            " [8.67628829e+04 6.53019329e+00 5.10696225e+00 2.09000000e+00\n",
            "  4.77245814e+04 1.57125353e+06]]\n"
          ]
        }
      ]
    },
    {
      "cell_type": "code",
      "metadata": {
        "id": "8dpDLojm1mVG",
        "outputId": "45d0ec50-9a99-4f50-9c40-ec1d33760a14",
        "colab": {
          "base_uri": "https://localhost:8080/"
        }
      },
      "source": [
        "print(y_train)"
      ],
      "execution_count": null,
      "outputs": [
        {
          "output_type": "stream",
          "name": "stdout",
          "text": [
            "['6651 Flynn Row Apt. 276\\nNorth Amandashire, MD 07547-9261'\n",
            " '0645 Arroyo Trail\\nEast Michelle, LA 07906-8981'\n",
            " '5889 Cindy Land Apt. 882\\nPort Johnside, PA 35545' ...\n",
            " '0555 Erin Crescent Suite 520\\nWest Joshua, CT 50309-9080'\n",
            " '40374 Larry Spur Apt. 429\\nNorth Amber, DC 93748'\n",
            " '4856 Wilkinson Shores Suite 654\\nPort Lucaston, NH 82431-8720']\n"
          ]
        }
      ]
    },
    {
      "cell_type": "code",
      "metadata": {
        "id": "qbb7i0DH1qui",
        "outputId": "ca3498c9-8c2d-4be8-ef73-f21d102e978c",
        "colab": {
          "base_uri": "https://localhost:8080/"
        }
      },
      "source": [
        "print(X_test)"
      ],
      "execution_count": null,
      "outputs": [
        {
          "output_type": "stream",
          "name": "stdout",
          "text": [
            "[[6.12007262e+04 5.29969400e+00 6.23461464e+00 4.23000000e+00\n",
            "  4.27896922e+04 8.94251069e+05]\n",
            " [6.33808147e+04 5.34466404e+00 6.00157433e+00 2.45000000e+00\n",
            "  4.02173336e+04 9.32979361e+05]\n",
            " [7.12082693e+04 5.30032605e+00 6.07798886e+00 4.01000000e+00\n",
            "  2.56963617e+04 9.20747911e+05]\n",
            " ...\n",
            " [7.86995151e+04 5.65278364e+00 6.75645386e+00 3.01000000e+00\n",
            "  2.28366076e+04 1.08115013e+06]\n",
            " [7.02563602e+04 5.00368419e+00 8.57913867e+00 3.10000000e+00\n",
            "  4.56723900e+04 1.31312814e+06]\n",
            " [5.99128239e+04 6.74431922e+00 5.80626555e+00 2.02000000e+00\n",
            "  3.80929276e+04 9.85283882e+05]]\n"
          ]
        }
      ]
    },
    {
      "cell_type": "code",
      "metadata": {
        "id": "kj1hnFAR1s5w",
        "outputId": "a81881a8-f87c-48e2-ab37-99ed5ab72d60",
        "colab": {
          "base_uri": "https://localhost:8080/"
        }
      },
      "source": [
        "print(y_test)"
      ],
      "execution_count": null,
      "outputs": [
        {
          "output_type": "stream",
          "name": "stdout",
          "text": [
            "['45153 Salas Hollow Apt. 148\\nWest Erica, SD 93725'\n",
            " '3499 Stuart Plains Suite 304\\nAaronhaven, NE 83521'\n",
            " '796 Joshua Forges Suite 834\\nBensonside, CA 82761' ...\n",
            " '7585 Lynn Loop\\nEast Judy, WV 73336'\n",
            " '535 Heidi Cliffs Apt. 629\\nNew Williamtown, AL 63784'\n",
            " '9936 April Plain\\nSouth Robert, AR 47420-4991']\n"
          ]
        }
      ]
    },
    {
      "cell_type": "code",
      "metadata": {
        "id": "9fQlDPKCh8sc"
      },
      "source": [
        "from sklearn.preprocessing import StandardScaler\n",
        "sc = StandardScaler()\n",
        "X_train = sc.fit_transform(X_train)\n",
        "X_test = sc.transform(X_test)"
      ],
      "execution_count": null,
      "outputs": []
    },
    {
      "cell_type": "code",
      "metadata": {
        "id": "syrnD1Op2BSR",
        "outputId": "eb2a2a26-97aa-4fb9-fd81-2c5408a6314f",
        "colab": {
          "base_uri": "https://localhost:8080/"
        }
      },
      "source": [
        "print(X_train)"
      ],
      "execution_count": null,
      "outputs": [
        {
          "output_type": "stream",
          "name": "stdout",
          "text": [
            "[[ 0.88478796 -0.96371279 -0.29220536  0.39089887  0.35554545 -0.19232279]\n",
            " [-1.69599363 -1.20651844  0.26215667  1.71739775 -0.28182733 -1.66552297]\n",
            " [-0.49273883  1.28280589  0.88289479 -0.70773516  0.6899806   0.63654774]\n",
            " ...\n",
            " [-0.13532792 -0.6257406   0.38722665  0.1793101  -0.62805486 -0.07629488]\n",
            " [-1.49926444 -1.0887987   0.23961582 -0.61821683  0.51031521 -1.1000631 ]\n",
            " [ 1.70807655  0.56280155 -1.85799875 -1.52153815  1.16546332  0.97094452]]\n"
          ]
        }
      ]
    },
    {
      "cell_type": "code",
      "metadata": {
        "id": "JUd6iBRp2C3L",
        "outputId": "92b59da4-01d8-4e56-a8c9-252e093a101d",
        "colab": {
          "base_uri": "https://localhost:8080/"
        }
      },
      "source": [
        "print(X_test)"
      ],
      "execution_count": null,
      "outputs": [
        {
          "output_type": "stream",
          "name": "stdout",
          "text": [
            "[[-0.68768056 -0.67267241 -0.74149482  0.22000025  0.66547511 -0.95427789]\n",
            " [-0.48335655 -0.62752056 -0.97223119 -1.22856908  0.40485142 -0.8441445 ]\n",
            " [ 0.25025449 -0.6720378  -0.89657213  0.04096359 -1.06637002 -0.87892763]\n",
            " ...\n",
            " [ 0.95235508 -0.3181553  -0.22481474 -0.7728394  -1.35611176 -0.42278462]\n",
            " [ 0.16103889 -0.96987893  1.57985021 -0.69959713  0.95754143  0.2369017 ]\n",
            " [-0.80838638  0.77779315 -1.16560906 -1.57850436  0.18961296 -0.69540378]]\n"
          ]
        }
      ]
    },
    {
      "cell_type": "code",
      "metadata": {
        "id": "e0pFVAmciHQs",
        "outputId": "b2bfb8eb-af7a-4c30-cbd9-43a199de1d1e",
        "colab": {
          "base_uri": "https://localhost:8080/"
        }
      },
      "source": [
        "from sklearn.tree import DecisionTreeClassifier\n",
        "classifier = DecisionTreeClassifier(criterion = 'entropy', random_state = 0)\n",
        "classifier.fit(X_train, y_train)"
      ],
      "execution_count": null,
      "outputs": [
        {
          "output_type": "execute_result",
          "data": {
            "text/plain": [
              "DecisionTreeClassifier(criterion='entropy', random_state=0)"
            ]
          },
          "metadata": {},
          "execution_count": 17
        }
      ]
    },
    {
      "cell_type": "code",
      "metadata": {
        "id": "p6VMTb2O4hwM",
        "outputId": "68775a19-285d-472e-9695-905a4597a7c7",
        "colab": {
          "base_uri": "https://localhost:8080/"
        }
      },
      "source": [
        "y_pred = classifier.predict(X_test)\n",
        "print(np.concatenate((y_pred.reshape(len(y_pred),1), y_test.reshape(len(y_test),1)),1))"
      ],
      "execution_count": null,
      "outputs": [
        {
          "output_type": "stream",
          "name": "stdout",
          "text": [
            "[['96230 Alexis Heights Suite 279\\nGregport, WV 57769-3580'\n",
            "  '45153 Salas Hollow Apt. 148\\nWest Erica, SD 93725']\n",
            " ['4626 Jones Shoals Apt. 257\\nNorth Kennethchester, PA 67461-9661'\n",
            "  '3499 Stuart Plains Suite 304\\nAaronhaven, NE 83521']\n",
            " ['19756 Brian Springs Suite 570\\nSouth Kristinton, AR 55238-2605'\n",
            "  '796 Joshua Forges Suite 834\\nBensonside, CA 82761']\n",
            " ...\n",
            " ['USS Hayes\\nFPO AE 34089-4213' '7585 Lynn Loop\\nEast Judy, WV 73336']\n",
            " ['99129 Kevin Hollow\\nDonnamouth, UT 61678-5704'\n",
            "  '535 Heidi Cliffs Apt. 629\\nNew Williamtown, AL 63784']\n",
            " ['734 Lindsey Mountains Apt. 814\\nJamesmouth, NV 59284'\n",
            "  '9936 April Plain\\nSouth Robert, AR 47420-4991']]\n"
          ]
        }
      ]
    },
    {
      "cell_type": "code",
      "metadata": {
        "id": "D6bpZwUiiXic",
        "outputId": "3a3a6399-bd4a-440b-f4a7-41c82f24c972",
        "colab": {
          "base_uri": "https://localhost:8080/"
        }
      },
      "source": [
        "from sklearn.metrics import confusion_matrix, accuracy_score\n",
        "cm = confusion_matrix(y_test, y_pred)\n",
        "print(cm)\n",
        "accuracy_score(y_test, y_pred)"
      ],
      "execution_count": null,
      "outputs": [
        {
          "output_type": "stream",
          "name": "stdout",
          "text": [
            "[[0 0 0 ... 0 0 0]\n",
            " [0 0 0 ... 0 0 0]\n",
            " [0 0 0 ... 0 0 0]\n",
            " ...\n",
            " [0 0 0 ... 0 0 0]\n",
            " [0 0 0 ... 0 0 0]\n",
            " [0 0 0 ... 0 0 0]]\n"
          ]
        },
        {
          "output_type": "execute_result",
          "data": {
            "text/plain": [
              "0.0"
            ]
          },
          "metadata": {},
          "execution_count": 20
        }
      ]
    }
  ]
}